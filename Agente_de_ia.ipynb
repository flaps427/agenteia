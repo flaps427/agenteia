{
  "nbformat": 4,
  "nbformat_minor": 0,
  "metadata": {
    "colab": {
      "provenance": [],
      "authorship_tag": "ABX9TyOA5VGxmfbTlI9jHXpnkb5N",
      "include_colab_link": true
    },
    "kernelspec": {
      "name": "python3",
      "display_name": "Python 3"
    },
    "language_info": {
      "name": "python"
    }
  },
  "cells": [
    {
      "cell_type": "markdown",
      "metadata": {
        "id": "view-in-github",
        "colab_type": "text"
      },
      "source": [
        "<a href=\"https://colab.research.google.com/github/flaps427/agenteia/blob/main/Agente_de_ia.ipynb\" target=\"_parent\"><img src=\"https://colab.research.google.com/assets/colab-badge.svg\" alt=\"Open In Colab\"/></a>"
      ]
    },
    {
      "cell_type": "code",
      "execution_count": null,
      "metadata": {
        "id": "Qp6oxJRvBS_8",
        "colab": {
          "base_uri": "https://localhost:8080/"
        },
        "outputId": "281b7462-0729-4aad-a3f2-187919b48ed1",
        "collapsed": true
      },
      "outputs": [
        {
          "output_type": "stream",
          "name": "stdout",
          "text": [
            "Collecting python-dotenv\n",
            "  Downloading python_dotenv-1.1.0-py3-none-any.whl.metadata (24 kB)\n",
            "Downloading python_dotenv-1.1.0-py3-none-any.whl (20 kB)\n",
            "Installing collected packages: python-dotenv\n",
            "Successfully installed python-dotenv-1.1.0\n",
            "Requirement already satisfied: requests in /usr/local/lib/python3.11/dist-packages (2.32.3)\n",
            "Requirement already satisfied: charset-normalizer<4,>=2 in /usr/local/lib/python3.11/dist-packages (from requests) (3.4.2)\n",
            "Requirement already satisfied: idna<4,>=2.5 in /usr/local/lib/python3.11/dist-packages (from requests) (3.10)\n",
            "Requirement already satisfied: urllib3<3,>=1.21.1 in /usr/local/lib/python3.11/dist-packages (from requests) (2.4.0)\n",
            "Requirement already satisfied: certifi>=2017.4.17 in /usr/local/lib/python3.11/dist-packages (from requests) (2025.4.26)\n"
          ]
        },
        {
          "output_type": "execute_result",
          "data": {
            "text/plain": [
              "True"
            ]
          },
          "metadata": {},
          "execution_count": 1
        }
      ],
      "source": [
        "!pip install python-dotenv\n",
        "!pip install requests\n",
        "import os\n",
        "import requests\n",
        "from dotenv import load_dotenv\n",
        "load_dotenv()  # Carrega o .env do diretório atual\n"
      ]
    },
    {
      "cell_type": "code",
      "source": [
        "import zipfile\n",
        "import os\n",
        "\n",
        "# Caminhos\n",
        "zip_file_path = \"/content/202401_NFs.zip\"  # Arquivo ZIP\n",
        "extraction_path = \"/content/dados_extraidos/\"  # Pasta de destino\n",
        "\n",
        "# Criar pasta se não existir\n",
        "os.makedirs(extraction_path, exist_ok=True)\n",
        "\n",
        "# Extrair\n",
        "with zipfile.ZipFile(zip_file_path, 'r') as zip_ref:\n",
        "    zip_ref.extractall(extraction_path)\n",
        "    print(f\"Arquivos extraídos em: {extraction_path}\")\n",
        "\n",
        "# Verificar conteúdo\n",
        "!ls -lh {extraction_path}"
      ],
      "metadata": {
        "id": "iLsHcgN9cf_c",
        "colab": {
          "base_uri": "https://localhost:8080/"
        },
        "outputId": "e994ce51-84a9-47f3-c6f9-dccbe15a3d5e",
        "collapsed": true
      },
      "execution_count": null,
      "outputs": [
        {
          "output_type": "stream",
          "name": "stdout",
          "text": [
            "Arquivos extraídos em: /content/dados_extraidos/\n",
            "total 336K\n",
            "-rw-r--r-- 1 root root  43K Jun 16 17:35 202401_NFs_Cabecalho.csv\n",
            "-rw-r--r-- 1 root root 292K Jun 16 17:35 202401_NFs_Itens.csv\n"
          ]
        }
      ]
    },
    {
      "cell_type": "code",
      "source": [
        "!pip install python-dotenv\n",
        "from dotenv import load_dotenv\n",
        "import os\n",
        "\n",
        "load_dotenv()  # Carrega o arquivo .env\n",
        "deepseek_api_key = os.getenv(\"DEEPSEEK_API_KEY\")\n"
      ],
      "metadata": {
        "colab": {
          "base_uri": "https://localhost:8080/"
        },
        "id": "etGzxHn05q-h",
        "outputId": "b7e60b79-94b4-4765-e609-134e7a9baa4c"
      },
      "execution_count": null,
      "outputs": [
        {
          "output_type": "stream",
          "name": "stdout",
          "text": [
            "Requirement already satisfied: python-dotenv in /usr/local/lib/python3.11/dist-packages (1.1.0)\n"
          ]
        }
      ]
    },
    {
      "cell_type": "code",
      "source": [
        "import sys\n",
        "!{sys.executable} -m pip install langchain-experimental\n",
        "from langchain_experimental.agents import create_pandas_dataframe_agent\n",
        "from langchain_community.chat_models import ChatOpenAI\n",
        "import glob\n",
        "import pandas as pd\n",
        "\n",
        "diretorio = glob.glob(\"dados_extraidos\" + \"/*.csv\")\n",
        "\n",
        "df_csv = pd.concat([pd.read_csv(arquivo) for arquivo in diretorio],ignore_index=True)\n",
        "\n",
        "print(df_csv.head())\n",
        "\n",
        "# 1. Configuração segura do agente\n",
        "agent_executor = create_pandas_dataframe_agent(\n",
        "    ChatOpenAI(\n",
        "        openai_api_key=deepseek_api_key,\n",
        "        openai_api_base=\"https://api.deepseek.com/v1\",\n",
        "        model_name=\"deepseek-chat\",\n",
        "        temperature=0.3,\n",
        "        max_tokens=2000\n",
        "    ),\n",
        "    df_csv,  # Seu DataFrame\n",
        "    verbose=True,\n",
        "    agent_type=\"openai-tools\",\n",
        "    max_iterations=10,  # Limita o número de operações\n",
        "    allow_dangerous_code=True,  # Permite execução controlada\n",
        "    handle_parsing_errors=True,  # Melhor tratamento de erros\n",
        "    early_stopping_method=\"generate\"  # Interrompe se demorar muito\n",
        ")\n",
        "\n",
        "\n",
        "# Exemplo de uso\n",
        "resposta = agent_executor.invoke({\"input\": \"Quantos registros existem?\"})\n",
        "print(resposta[\"output\"])\n",
        "\n",
        "pergunta = \"Quantas notas fiscais existem no total?\"\n",
        "resposta = agent_executor.invoke({\"input\": pergunta})\n",
        "\n",
        "print(f\"Pergunta: {pergunta}\")\n",
        "print(f\"Resposta: {resposta.get('output')}\")\n",
        "\n"
      ],
      "metadata": {
        "colab": {
          "base_uri": "https://localhost:8080/"
        },
        "id": "GkepDj6ezZMw",
        "outputId": "541faf5a-b7fe-49d4-9819-f05ded47366a",
        "collapsed": true
      },
      "execution_count": null,
      "outputs": [
        {
          "output_type": "stream",
          "name": "stdout",
          "text": [
            "Requirement already satisfied: langchain-experimental in /usr/local/lib/python3.11/dist-packages (0.3.4)\n",
            "Requirement already satisfied: langchain-community<0.4.0,>=0.3.0 in /usr/local/lib/python3.11/dist-packages (from langchain-experimental) (0.3.25)\n",
            "Requirement already satisfied: langchain-core<0.4.0,>=0.3.28 in /usr/local/lib/python3.11/dist-packages (from langchain-experimental) (0.3.65)\n",
            "Requirement already satisfied: langchain<1.0.0,>=0.3.25 in /usr/local/lib/python3.11/dist-packages (from langchain-community<0.4.0,>=0.3.0->langchain-experimental) (0.3.25)\n",
            "Requirement already satisfied: SQLAlchemy<3,>=1.4 in /usr/local/lib/python3.11/dist-packages (from langchain-community<0.4.0,>=0.3.0->langchain-experimental) (2.0.41)\n",
            "Requirement already satisfied: requests<3,>=2 in /usr/local/lib/python3.11/dist-packages (from langchain-community<0.4.0,>=0.3.0->langchain-experimental) (2.32.3)\n",
            "Requirement already satisfied: PyYAML>=5.3 in /usr/local/lib/python3.11/dist-packages (from langchain-community<0.4.0,>=0.3.0->langchain-experimental) (6.0.2)\n",
            "Requirement already satisfied: aiohttp<4.0.0,>=3.8.3 in /usr/local/lib/python3.11/dist-packages (from langchain-community<0.4.0,>=0.3.0->langchain-experimental) (3.11.15)\n",
            "Requirement already satisfied: tenacity!=8.4.0,<10,>=8.1.0 in /usr/local/lib/python3.11/dist-packages (from langchain-community<0.4.0,>=0.3.0->langchain-experimental) (9.1.2)\n",
            "Requirement already satisfied: dataclasses-json<0.7,>=0.5.7 in /usr/local/lib/python3.11/dist-packages (from langchain-community<0.4.0,>=0.3.0->langchain-experimental) (0.6.7)\n",
            "Requirement already satisfied: pydantic-settings<3.0.0,>=2.4.0 in /usr/local/lib/python3.11/dist-packages (from langchain-community<0.4.0,>=0.3.0->langchain-experimental) (2.9.1)\n",
            "Requirement already satisfied: langsmith<0.4,>=0.1.125 in /usr/local/lib/python3.11/dist-packages (from langchain-community<0.4.0,>=0.3.0->langchain-experimental) (0.3.45)\n",
            "Requirement already satisfied: httpx-sse<1.0.0,>=0.4.0 in /usr/local/lib/python3.11/dist-packages (from langchain-community<0.4.0,>=0.3.0->langchain-experimental) (0.4.0)\n",
            "Requirement already satisfied: numpy>=1.26.2 in /usr/local/lib/python3.11/dist-packages (from langchain-community<0.4.0,>=0.3.0->langchain-experimental) (2.0.2)\n",
            "Requirement already satisfied: jsonpatch<2.0,>=1.33 in /usr/local/lib/python3.11/dist-packages (from langchain-core<0.4.0,>=0.3.28->langchain-experimental) (1.33)\n",
            "Requirement already satisfied: packaging<25,>=23.2 in /usr/local/lib/python3.11/dist-packages (from langchain-core<0.4.0,>=0.3.28->langchain-experimental) (24.2)\n",
            "Requirement already satisfied: typing-extensions>=4.7 in /usr/local/lib/python3.11/dist-packages (from langchain-core<0.4.0,>=0.3.28->langchain-experimental) (4.14.0)\n",
            "Requirement already satisfied: pydantic>=2.7.4 in /usr/local/lib/python3.11/dist-packages (from langchain-core<0.4.0,>=0.3.28->langchain-experimental) (2.11.5)\n",
            "Requirement already satisfied: aiohappyeyeballs>=2.3.0 in /usr/local/lib/python3.11/dist-packages (from aiohttp<4.0.0,>=3.8.3->langchain-community<0.4.0,>=0.3.0->langchain-experimental) (2.6.1)\n",
            "Requirement already satisfied: aiosignal>=1.1.2 in /usr/local/lib/python3.11/dist-packages (from aiohttp<4.0.0,>=3.8.3->langchain-community<0.4.0,>=0.3.0->langchain-experimental) (1.3.2)\n",
            "Requirement already satisfied: attrs>=17.3.0 in /usr/local/lib/python3.11/dist-packages (from aiohttp<4.0.0,>=3.8.3->langchain-community<0.4.0,>=0.3.0->langchain-experimental) (25.3.0)\n",
            "Requirement already satisfied: frozenlist>=1.1.1 in /usr/local/lib/python3.11/dist-packages (from aiohttp<4.0.0,>=3.8.3->langchain-community<0.4.0,>=0.3.0->langchain-experimental) (1.6.0)\n",
            "Requirement already satisfied: multidict<7.0,>=4.5 in /usr/local/lib/python3.11/dist-packages (from aiohttp<4.0.0,>=3.8.3->langchain-community<0.4.0,>=0.3.0->langchain-experimental) (6.4.4)\n",
            "Requirement already satisfied: propcache>=0.2.0 in /usr/local/lib/python3.11/dist-packages (from aiohttp<4.0.0,>=3.8.3->langchain-community<0.4.0,>=0.3.0->langchain-experimental) (0.3.1)\n",
            "Requirement already satisfied: yarl<2.0,>=1.17.0 in /usr/local/lib/python3.11/dist-packages (from aiohttp<4.0.0,>=3.8.3->langchain-community<0.4.0,>=0.3.0->langchain-experimental) (1.20.0)\n",
            "Requirement already satisfied: marshmallow<4.0.0,>=3.18.0 in /usr/local/lib/python3.11/dist-packages (from dataclasses-json<0.7,>=0.5.7->langchain-community<0.4.0,>=0.3.0->langchain-experimental) (3.26.1)\n",
            "Requirement already satisfied: typing-inspect<1,>=0.4.0 in /usr/local/lib/python3.11/dist-packages (from dataclasses-json<0.7,>=0.5.7->langchain-community<0.4.0,>=0.3.0->langchain-experimental) (0.9.0)\n",
            "Requirement already satisfied: jsonpointer>=1.9 in /usr/local/lib/python3.11/dist-packages (from jsonpatch<2.0,>=1.33->langchain-core<0.4.0,>=0.3.28->langchain-experimental) (3.0.0)\n",
            "Requirement already satisfied: langchain-text-splitters<1.0.0,>=0.3.8 in /usr/local/lib/python3.11/dist-packages (from langchain<1.0.0,>=0.3.25->langchain-community<0.4.0,>=0.3.0->langchain-experimental) (0.3.8)\n",
            "Requirement already satisfied: httpx<1,>=0.23.0 in /usr/local/lib/python3.11/dist-packages (from langsmith<0.4,>=0.1.125->langchain-community<0.4.0,>=0.3.0->langchain-experimental) (0.28.1)\n",
            "Requirement already satisfied: orjson<4.0.0,>=3.9.14 in /usr/local/lib/python3.11/dist-packages (from langsmith<0.4,>=0.1.125->langchain-community<0.4.0,>=0.3.0->langchain-experimental) (3.10.18)\n",
            "Requirement already satisfied: requests-toolbelt<2.0.0,>=1.0.0 in /usr/local/lib/python3.11/dist-packages (from langsmith<0.4,>=0.1.125->langchain-community<0.4.0,>=0.3.0->langchain-experimental) (1.0.0)\n",
            "Requirement already satisfied: zstandard<0.24.0,>=0.23.0 in /usr/local/lib/python3.11/dist-packages (from langsmith<0.4,>=0.1.125->langchain-community<0.4.0,>=0.3.0->langchain-experimental) (0.23.0)\n",
            "Requirement already satisfied: annotated-types>=0.6.0 in /usr/local/lib/python3.11/dist-packages (from pydantic>=2.7.4->langchain-core<0.4.0,>=0.3.28->langchain-experimental) (0.7.0)\n",
            "Requirement already satisfied: pydantic-core==2.33.2 in /usr/local/lib/python3.11/dist-packages (from pydantic>=2.7.4->langchain-core<0.4.0,>=0.3.28->langchain-experimental) (2.33.2)\n",
            "Requirement already satisfied: typing-inspection>=0.4.0 in /usr/local/lib/python3.11/dist-packages (from pydantic>=2.7.4->langchain-core<0.4.0,>=0.3.28->langchain-experimental) (0.4.1)\n",
            "Requirement already satisfied: python-dotenv>=0.21.0 in /usr/local/lib/python3.11/dist-packages (from pydantic-settings<3.0.0,>=2.4.0->langchain-community<0.4.0,>=0.3.0->langchain-experimental) (1.1.0)\n",
            "Requirement already satisfied: charset-normalizer<4,>=2 in /usr/local/lib/python3.11/dist-packages (from requests<3,>=2->langchain-community<0.4.0,>=0.3.0->langchain-experimental) (3.4.2)\n",
            "Requirement already satisfied: idna<4,>=2.5 in /usr/local/lib/python3.11/dist-packages (from requests<3,>=2->langchain-community<0.4.0,>=0.3.0->langchain-experimental) (3.10)\n",
            "Requirement already satisfied: urllib3<3,>=1.21.1 in /usr/local/lib/python3.11/dist-packages (from requests<3,>=2->langchain-community<0.4.0,>=0.3.0->langchain-experimental) (2.4.0)\n",
            "Requirement already satisfied: certifi>=2017.4.17 in /usr/local/lib/python3.11/dist-packages (from requests<3,>=2->langchain-community<0.4.0,>=0.3.0->langchain-experimental) (2025.4.26)\n",
            "Requirement already satisfied: greenlet>=1 in /usr/local/lib/python3.11/dist-packages (from SQLAlchemy<3,>=1.4->langchain-community<0.4.0,>=0.3.0->langchain-experimental) (3.2.2)\n",
            "Requirement already satisfied: anyio in /usr/local/lib/python3.11/dist-packages (from httpx<1,>=0.23.0->langsmith<0.4,>=0.1.125->langchain-community<0.4.0,>=0.3.0->langchain-experimental) (4.9.0)\n",
            "Requirement already satisfied: httpcore==1.* in /usr/local/lib/python3.11/dist-packages (from httpx<1,>=0.23.0->langsmith<0.4,>=0.1.125->langchain-community<0.4.0,>=0.3.0->langchain-experimental) (1.0.9)\n",
            "Requirement already satisfied: h11>=0.16 in /usr/local/lib/python3.11/dist-packages (from httpcore==1.*->httpx<1,>=0.23.0->langsmith<0.4,>=0.1.125->langchain-community<0.4.0,>=0.3.0->langchain-experimental) (0.16.0)\n",
            "Requirement already satisfied: mypy-extensions>=0.3.0 in /usr/local/lib/python3.11/dist-packages (from typing-inspect<1,>=0.4.0->dataclasses-json<0.7,>=0.5.7->langchain-community<0.4.0,>=0.3.0->langchain-experimental) (1.1.0)\n",
            "Requirement already satisfied: sniffio>=1.1 in /usr/local/lib/python3.11/dist-packages (from anyio->httpx<1,>=0.23.0->langsmith<0.4,>=0.1.125->langchain-community<0.4.0,>=0.3.0->langchain-experimental) (1.3.1)\n",
            "                                CHAVE DE ACESSO  \\\n",
            "0  41240106267630001509550010035101291224888487   \n",
            "1  50240129843878000170550010000025251000181553   \n",
            "2  50240129843878000170550010000025251000181553   \n",
            "3  50240129843878000170550010000025251000181553   \n",
            "4  50240112977901000117550010000051831659469117   \n",
            "\n",
            "                                              MODELO  SÉRIE   NÚMERO  \\\n",
            "0  55 - NF-E EMITIDA EM SUBSTITUIÇÃO AO MODELO 1 ...      1  3510129   \n",
            "1  55 - NF-E EMITIDA EM SUBSTITUIÇÃO AO MODELO 1 ...      1     2525   \n",
            "2  55 - NF-E EMITIDA EM SUBSTITUIÇÃO AO MODELO 1 ...      1     2525   \n",
            "3  55 - NF-E EMITIDA EM SUBSTITUIÇÃO AO MODELO 1 ...      1     2525   \n",
            "4  55 - NF-E EMITIDA EM SUBSTITUIÇÃO AO MODELO 1 ...      1     5183   \n",
            "\n",
            "                   NATUREZA DA OPERAÇÃO         DATA EMISSÃO  \\\n",
            "0  Outras Entradas - Dev Remessa Escola  2024-01-18 07:10:39   \n",
            "1    VENDA DE MERCADORIA FORA DO ESTADO  2024-01-26 11:24:42   \n",
            "2    VENDA DE MERCADORIA FORA DO ESTADO  2024-01-26 11:24:42   \n",
            "3    VENDA DE MERCADORIA FORA DO ESTADO  2024-01-26 11:24:42   \n",
            "4                  Venda de mercadorias  2024-01-22 11:01:09   \n",
            "\n",
            "  CPF/CNPJ Emitente                              RAZÃO SOCIAL EMITENTE  \\\n",
            "0    06267630001509  COMPANHIA BRASILEIRA DE EDUC. E SIST. DE ENS. ...   \n",
            "1    29843878000170            V CALDI PEREIRA PECAS E SERVICOS DIESEL   \n",
            "2    29843878000170            V CALDI PEREIRA PECAS E SERVICOS DIESEL   \n",
            "3    29843878000170            V CALDI PEREIRA PECAS E SERVICOS DIESEL   \n",
            "4    12977901000117                                     MOSKO LTDA EPP   \n",
            "\n",
            "   INSCRIÇÃO ESTADUAL EMITENTE UF EMITENTE  ... CÓDIGO NCM/SH  \\\n",
            "0                   9085104702          PR  ...    49019900.0   \n",
            "1                    284290777          MS  ...    85122021.0   \n",
            "2                    284290777          MS  ...    73071920.0   \n",
            "3                    284290777          MS  ...    39173100.0   \n",
            "4                    284058734          MS  ...    22011000.0   \n",
            "\n",
            "                            NCM/SH (TIPO DE PRODUTO)    CFOP QUANTIDADE  \\\n",
            "0   Outros livros, brochuras e impressos semelhantes  2949.0        1.0   \n",
            "1        Luzes fixas para automóveis e outros ciclos  6403.0        4.0   \n",
            "2              Acessórios moldados para tubos de aço  6403.0        4.0   \n",
            "3  Tubos flexíveis podendo suportar uma pressão m...  6403.0        1.0   \n",
            "4  Águas minerais e águas gaseificadas, não adici...  5405.0        9.0   \n",
            "\n",
            "  UNIDADE VALOR UNITÁRIO VALOR TOTAL EVENTO MAIS RECENTE  \\\n",
            "0  UNIDAD          522.5       522.5                 NaN   \n",
            "1  UNIDAD           39.9       159.6                 NaN   \n",
            "2    PEÇA           75.0       300.0                 NaN   \n",
            "3    PEÇA           39.9        39.9                 NaN   \n",
            "4      GL           37.5       337.5                 NaN   \n",
            "\n",
            "   DATA/HORA EVENTO MAIS RECENTE VALOR NOTA FISCAL  \n",
            "0                            NaN               NaN  \n",
            "1                            NaN               NaN  \n",
            "2                            NaN               NaN  \n",
            "3                            NaN               NaN  \n",
            "4                            NaN               NaN  \n",
            "\n",
            "[5 rows x 30 columns]\n",
            "\n",
            "\n",
            "\u001b[1m> Entering new AgentExecutor chain...\u001b[0m\n"
          ]
        },
        {
          "output_type": "stream",
          "name": "stderr",
          "text": [
            "/usr/local/lib/python3.11/dist-packages/langchain_experimental/agents/agent_toolkits/pandas/base.py:283: UserWarning: Received additional kwargs {'handle_parsing_errors': True} which are no longer supported.\n",
            "  warnings.warn(\n"
          ]
        },
        {
          "output_type": "stream",
          "name": "stdout",
          "text": [
            "\u001b[32;1m\u001b[1;3m\n",
            "Invoking: `python_repl_ast` with `{'query': 'len(df)'}`\n",
            "\n",
            "\n",
            "\u001b[0m\u001b[36;1m\u001b[1;3m665\u001b[0m\u001b[32;1m\u001b[1;3mExistem 665 registros no dataframe.\u001b[0m\n",
            "\n",
            "\u001b[1m> Finished chain.\u001b[0m\n",
            "Existem 665 registros no dataframe.\n",
            "\n",
            "\n",
            "\u001b[1m> Entering new AgentExecutor chain...\u001b[0m\n",
            "\u001b[32;1m\u001b[1;3m\n",
            "Invoking: `python_repl_ast` with `{'query': \"df['CHAVE DE ACESSO'].nunique()\"}`\n",
            "\n",
            "\n",
            "\u001b[0m\u001b[36;1m\u001b[1;3m100\u001b[0m\u001b[32;1m\u001b[1;3mExistem 100 notas fiscais no total.\u001b[0m\n",
            "\n",
            "\u001b[1m> Finished chain.\u001b[0m\n",
            "Pergunta: Quantas notas fiscais existem no total?\n",
            "Resposta: Existem 100 notas fiscais no total.\n"
          ]
        }
      ]
    },
    {
      "cell_type": "code",
      "source": [
        "pergunta = \"Qual é o maio valor?\"\n",
        "resposta = agent_executor.invoke({\"input\": pergunta})"
      ],
      "metadata": {
        "colab": {
          "base_uri": "https://localhost:8080/"
        },
        "id": "Fil0p7Sj4PhT",
        "outputId": "73df9604-eb0a-437c-9540-cc962f0b67af"
      },
      "execution_count": null,
      "outputs": [
        {
          "output_type": "stream",
          "name": "stdout",
          "text": [
            "\n",
            "\n",
            "\u001b[1m> Entering new AgentExecutor chain...\u001b[0m\n",
            "\u001b[32;1m\u001b[1;3m\n",
            "Invoking: `python_repl_ast` with `{'query': \"df['VALOR TOTAL'].max()\"}`\n",
            "\n",
            "\n",
            "\u001b[0m\u001b[36;1m\u001b[1;3m985050.0\u001b[0m"
          ]
        }
      ]
    }
  ]
}